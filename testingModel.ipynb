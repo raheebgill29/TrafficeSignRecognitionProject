{
 "cells": [
  {
   "cell_type": "code",
   "id": "initial_id",
   "metadata": {
    "collapsed": true,
    "ExecuteTime": {
     "end_time": "2024-05-04T10:37:21.995715Z",
     "start_time": "2024-05-04T10:37:19.497842Z"
    }
   },
   "source": [
    "from tensorflow.keras.models import load_model\n",
    "\n",
    "model = load_model(\"traffic_sign_classifier.h5\")  # Update with your model file path\n"
   ],
   "outputs": [],
   "execution_count": 4
  },
  {
   "metadata": {
    "ExecuteTime": {
     "end_time": "2024-05-04T10:37:22.878131Z",
     "start_time": "2024-05-04T10:37:22.838479Z"
    }
   },
   "cell_type": "code",
   "source": [
    "import cv2\n",
    "import numpy as np\n",
    "image_path=\"C:/Users/WWC/DataspellProjects/TrafficSignalRecognition/stop.jpeg\"\n",
    "def preprocess_image(image_path):\n",
    "    image = cv2.imread(image_path)\n",
    "    image = cv2.resize(image, (32, 32))\n",
    "    image = image / 255.0\n",
    "    image = np.expand_dims(image, axis=0)\n",
    "    return image\n"
   ],
   "id": "e34ccb51f278ed55",
   "outputs": [],
   "execution_count": 5
  },
  {
   "metadata": {
    "ExecuteTime": {
     "end_time": "2024-05-04T09:09:32.948368Z",
     "start_time": "2024-05-04T09:09:31.987392Z"
    }
   },
   "cell_type": "code",
   "source": [
    "# predicted_traffic_sign = class_names.get(predicted_class_index, \"Unknown\")\n",
    "input_image = preprocess_image(image_path)\n",
    "predictions = model.predict(input_image)\n",
    "predicted_class_index = np.argmax(predictions)\n",
    "print(\"Predicted Class Index:\", predicted_class_index)\n"
   ],
   "id": "48694841623f0684",
   "outputs": [
    {
     "name": "stdout",
     "output_type": "stream",
     "text": [
      "1/1 [==============================] - 1s 558ms/step\n",
      "Predicted Class Index: 14\n"
     ]
    }
   ],
   "execution_count": 3
  },
  {
   "metadata": {},
   "cell_type": "code",
   "outputs": [],
   "execution_count": null,
   "source": "",
   "id": "8ba42d932211e154"
  }
 ],
 "metadata": {
  "kernelspec": {
   "display_name": "Python 3",
   "language": "python",
   "name": "python3"
  },
  "language_info": {
   "codemirror_mode": {
    "name": "ipython",
    "version": 2
   },
   "file_extension": ".py",
   "mimetype": "text/x-python",
   "name": "python",
   "nbconvert_exporter": "python",
   "pygments_lexer": "ipython2",
   "version": "2.7.6"
  }
 },
 "nbformat": 4,
 "nbformat_minor": 5
}
